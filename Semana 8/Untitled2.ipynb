{
 "cells": [
  {
   "cell_type": "code",
   "execution_count": 2,
   "id": "4485b672-b5c7-43f5-8b37-657cec54372a",
   "metadata": {},
   "outputs": [
    {
     "name": "stdout",
     "output_type": "stream",
     "text": [
      "Collecting faker\n",
      "  Downloading Faker-26.1.0-py3-none-any.whl.metadata (15 kB)\n",
      "Requirement already satisfied: python-dateutil>=2.4 in c:\\users\\deyvi.caicedo\\appdata\\local\\anaconda3\\lib\\site-packages (from faker) (2.9.0.post0)\n",
      "Requirement already satisfied: six>=1.5 in c:\\users\\deyvi.caicedo\\appdata\\local\\anaconda3\\lib\\site-packages (from python-dateutil>=2.4->faker) (1.16.0)\n",
      "Downloading Faker-26.1.0-py3-none-any.whl (1.8 MB)\n",
      "   ---------------------------------------- 0.0/1.8 MB ? eta -:--:--\n",
      "   ---------- ----------------------------- 0.5/1.8 MB 14.9 MB/s eta 0:00:01\n",
      "   ---------------------------------------  1.8/1.8 MB 28.3 MB/s eta 0:00:01\n",
      "   ---------------------------------------- 1.8/1.8 MB 19.0 MB/s eta 0:00:00\n",
      "Installing collected packages: faker\n",
      "Successfully installed faker-26.1.0\n",
      "Note: you may need to restart the kernel to use updated packages.\n"
     ]
    },
    {
     "name": "stderr",
     "output_type": "stream",
     "text": [
      "\n",
      "[notice] A new release of pip is available: 24.1.2 -> 24.2\n",
      "[notice] To update, run: python.exe -m pip install --upgrade pip\n"
     ]
    }
   ],
   "source": [
    "pip install faker"
   ]
  },
  {
   "cell_type": "code",
   "execution_count": 1,
   "id": "309ade24-6aca-41e1-8181-80ee81855135",
   "metadata": {},
   "outputs": [],
   "source": [
    "import nltk\n",
    "from nltk.tokenize import word_tokenize\n",
    "from nltk import pos_tag\n",
    "from sklearn.feature_extraction.text import CountVectorizer\n",
    "from sklearn.metrics import classification_report, confusion_matrix, roc_curve, auc\n",
    "from sklearn.svm import SVC\n",
    "from sklearn.tree import DecisionTreeClassifier\n",
    "from sklearn.linear_model import LogisticRegression\n",
    "from sklearn.model_selection import train_test_split\n",
    "import matplotlib.pyplot as plt\n",
    "import seaborn as sns\n",
    "import numpy as np\n",
    "from collections import Counter\n",
    "from faker import Faker\n",
    "import random\n",
    "from nltk.corpus import stopwords\n",
    "from nltk.stem import PorterStemmer, WordNetLemmatizer\n",
    "import re"
   ]
  },
  {
   "cell_type": "code",
   "execution_count": 2,
   "id": "8f10e196-5391-4bd2-966e-f8c41f3bb2ee",
   "metadata": {},
   "outputs": [
    {
     "name": "stderr",
     "output_type": "stream",
     "text": [
      "[nltk_data] Downloading package punkt to\n",
      "[nltk_data]     C:\\Users\\deyvi.caicedo\\AppData\\Roaming\\nltk_data...\n",
      "[nltk_data]   Package punkt is already up-to-date!\n",
      "[nltk_data] Downloading package stopwords to\n",
      "[nltk_data]     C:\\Users\\deyvi.caicedo\\AppData\\Roaming\\nltk_data...\n",
      "[nltk_data]   Package stopwords is already up-to-date!\n",
      "[nltk_data] Downloading package wordnet to\n",
      "[nltk_data]     C:\\Users\\deyvi.caicedo\\AppData\\Roaming\\nltk_data...\n",
      "[nltk_data]   Package wordnet is already up-to-date!\n",
      "[nltk_data] Downloading package omw-1.4 to\n",
      "[nltk_data]     C:\\Users\\deyvi.caicedo\\AppData\\Roaming\\nltk_data...\n",
      "[nltk_data]   Package omw-1.4 is already up-to-date!\n"
     ]
    },
    {
     "data": {
      "text/plain": [
       "True"
      ]
     },
     "execution_count": 2,
     "metadata": {},
     "output_type": "execute_result"
    }
   ],
   "source": [
    "# Descargar recursos de NLTK\n",
    "nltk.download('punkt')\n",
    "\n",
    "# Descargar más recursos necesarios\n",
    "nltk.download('stopwords')\n",
    "nltk.download('wordnet')\n",
    "nltk.download('omw-1.4')"
   ]
  },
  {
   "cell_type": "code",
   "execution_count": 3,
   "id": "58b0a42b-fcbf-4b48-a9aa-57506e34429a",
   "metadata": {},
   "outputs": [],
   "source": [
    "# Función de preprocesamiento\n",
    "def preprocess(text):\n",
    "    tokens = nltk.word_tokenize(text)\n",
    "    return ' '.join(tokens)  # Devolver el texto tokenizado como una cadena"
   ]
  },
  {
   "cell_type": "code",
   "execution_count": 4,
   "id": "47419dc5-ba0e-4d70-afa8-e83897a571c5",
   "metadata": {},
   "outputs": [
    {
     "name": "stdout",
     "output_type": "stream",
     "text": [
      "Texto original: NLTK is a powerful toolkit for natural language processing.\n",
      "Texto preprocesado: nltk power toolkit natur languag process\n"
     ]
    }
   ],
   "source": [
    "# Inicializar el stemmer y el lematizador\n",
    "stemmer = PorterStemmer()\n",
    "lemmatizer = WordNetLemmatizer()\n",
    "\n",
    "# Obtener la lista de stop words\n",
    "stop_words = set(stopwords.words('english'))\n",
    "\n",
    "def preprocess(text):\n",
    "    # Normalización: convertir a minúsculas y eliminar caracteres especiales\n",
    "    text = text.lower()\n",
    "    text = re.sub(r'\\W+', ' ', text)  # Eliminar caracteres especiales\n",
    "    text = re.sub(r'\\s+', ' ', text).strip()  # Eliminar espacios extra\n",
    "\n",
    "    # Tokenización\n",
    "    tokens = nltk.word_tokenize(text)\n",
    "    \n",
    "    # Eliminar stop words y aplicar stemming y lematización\n",
    "    processed_tokens = []\n",
    "    for token in tokens:\n",
    "        if token not in stop_words:\n",
    "            stemmed = stemmer.stem(token)\n",
    "            lemmatized = lemmatizer.lemmatize(stemmed)\n",
    "            processed_tokens.append(lemmatized)\n",
    "    \n",
    "    # Unir los tokens procesados en una sola cadena\n",
    "    return ' '.join(processed_tokens)\n",
    "\n",
    "# Ejemplo de texto para preprocesar\n",
    "example_text = \"NLTK is a powerful toolkit for natural language processing.\"\n",
    "\n",
    "# Aplicar la rutina de preprocesamiento\n",
    "processed_text = preprocess(example_text)\n",
    "print(\"Texto original:\", example_text)\n",
    "print(\"Texto preprocesado:\", processed_text)"
   ]
  },
  {
   "cell_type": "code",
   "execution_count": 5,
   "id": "a5fd0773-8741-4320-81b4-6f196a16c9e0",
   "metadata": {},
   "outputs": [],
   "source": [
    "# Datos de ejemplo\n",
    "data = [\n",
    "    (\"I love this movie\", \"positive\"),\n",
    "    (\"This movie is terrible\", \"negative\"),\n",
    "    (\"This movie is great\", \"positive\"),\n",
    "    (\"I dislike this movie\", \"negative\"),\n",
    "    (\"This film is amazing\", \"positive\"),\n",
    "    (\"I can't stand watching this movie\", \"negative\"),\n",
    "    (\"The acting in this movie is phenomenal\", \"positive\"),\n",
    "    (\"I regret wasting my time on this film\", \"negative\"),\n",
    "    (\"I thoroughly enjoyed this movie\", \"positive\"),\n",
    "    (\"This movie lacks depth and substance\", \"negative\"),\n",
    "    (\"The plot of this movie was captivating\", \"positive\"),\n",
    "    (\"I found the characters in this film to be very engaging\", \"positive\"),\n",
    "    (\"The special effects in this movie were impressive\", \"positive\"),\n",
    "    (\"The storyline was predictable and unoriginal\", \"negative\"),\n",
    "    (\"I was disappointed by the lack of character development\", \"negative\"),\n",
    "    (\"The cinematography in this film was stunning\", \"positive\"),\n",
    "    (\"The dialogue felt forced and unnatural\", \"negative\"),\n",
    "    (\"The pacing of the movie was too slow for my liking\", \"negative\"),\n",
    "    (\"I was pleasantly surprised by how much I enjoyed this film\", \"positive\"),\n",
    "    (\"The ending left me feeling unsatisfied and confused\", \"negative\"),\n",
    "    (\"This movie exceeded my expectations\", \"positive\"),\n",
    "    (\"The performances by the actors were lackluster\", \"negative\")\n",
    "]"
   ]
  },
  {
   "cell_type": "code",
   "execution_count": 6,
   "id": "882ccaa0-f094-4a2b-8392-472de077264f",
   "metadata": {},
   "outputs": [],
   "source": [
    "# Crear datos sintéticos\n",
    "fake = Faker()"
   ]
  },
  {
   "cell_type": "code",
   "execution_count": 7,
   "id": "be811eb4-74f7-4470-953a-556405678494",
   "metadata": {},
   "outputs": [],
   "source": [
    "def generate_synthetic_data(num_samples=40000):\n",
    "    synthetic_data = []\n",
    "    sentiments = [\"positive\", \"negative\"]\n",
    "    for _ in range(num_samples):\n",
    "        text = fake.text(max_nb_chars=200)\n",
    "        sentiment = random.choice(sentiments)\n",
    "        synthetic_data.append((text, sentiment))\n",
    "    \n",
    "    return synthetic_data    "
   ]
  },
  {
   "cell_type": "code",
   "execution_count": 8,
   "id": "aa2d2116-7e58-47be-897e-7b7b8dac9097",
   "metadata": {},
   "outputs": [],
   "source": [
    "# Ampliar el dataset con datos sintéticos\n",
    "synthetic_data = generate_synthetic_data()\n",
    "data.extend(synthetic_data)"
   ]
  },
  {
   "cell_type": "code",
   "execution_count": 9,
   "id": "af554a77-377d-489a-8752-56e615a6c29e",
   "metadata": {},
   "outputs": [
    {
     "name": "stdout",
     "output_type": "stream",
     "text": [
      "Cantidad de datos originales: 22\n",
      "Cantidad de datos sintéticos: 40000\n",
      "Cantidad total de datos: 40022\n"
     ]
    }
   ],
   "source": [
    "# Verificar la cantidad de datos originales y sintéticos\n",
    "print(f\"Cantidad de datos originales: {len(data) - len(synthetic_data)}\")\n",
    "print(f\"Cantidad de datos sintéticos: {len(synthetic_data)}\")\n",
    "print(f\"Cantidad total de datos: {len(data)}\")"
   ]
  },
  {
   "cell_type": "code",
   "execution_count": 10,
   "id": "f8be4731-e11f-4d57-ba2d-9a8dc6d2a64e",
   "metadata": {},
   "outputs": [
    {
     "name": "stdout",
     "output_type": "stream",
     "text": [
      "\n",
      "Muestra de datos sintéticos añadidos:\n",
      "Texto: Just mission green chair sit price beat. Prove sit gas away hand board air.\n",
      "Herself degree none trouble hit recognize. Among boy value side range Congress her.\n",
      "Etiqueta: positive\n",
      "----------------------------------------\n",
      "Texto: Window machine democratic. Successful develop behind role.\n",
      "Others public account include. Meet but light whole material course according. Natural list live degree gas.\n",
      "Etiqueta: positive\n",
      "----------------------------------------\n",
      "Texto: By me population oil. Grow color great ready responsibility. Buy reveal also continue might fact past. Some significant father area.\n",
      "Etiqueta: positive\n",
      "----------------------------------------\n",
      "Texto: Night stop just both degree. Attorney would record weight up product.\n",
      "His wonder whatever Republican certain.\n",
      "Direction result rock consumer road.\n",
      "Etiqueta: negative\n",
      "----------------------------------------\n",
      "Texto: Concern around husband me agree know. Doctor middle government city simply. Crime ask smile animal.\n",
      "Etiqueta: negative\n",
      "----------------------------------------\n"
     ]
    }
   ],
   "source": [
    "# Mostrar una muestra de los datos sintéticos añadidos\n",
    "print(\"\\nMuestra de datos sintéticos añadidos:\")\n",
    "for i in range(min(5, len(synthetic_data))):  # Muestra las primeras 5 entradas, o menos si hay menos de 5\n",
    "    print(f\"Texto: {synthetic_data[i][0]}\")\n",
    "    print(f\"Etiqueta: {synthetic_data[i][1]}\")\n",
    "    print(\"-\" * 40)"
   ]
  },
  {
   "cell_type": "code",
   "execution_count": 11,
   "id": "0a98d403-1550-42d8-a622-90dfb55236bd",
   "metadata": {},
   "outputs": [
    {
     "name": "stderr",
     "output_type": "stream",
     "text": [
      "C:\\Users\\deyvi.caicedo\\AppData\\Local\\Temp\\ipykernel_9700\\3130119936.py:5: FutureWarning: \n",
      "\n",
      "Passing `palette` without assigning `hue` is deprecated and will be removed in v0.14.0. Assign the `x` variable to `hue` and set `legend=False` for the same effect.\n",
      "\n",
      "  sns.countplot(x=labels, palette='viridis')\n"
     ]
    },
    {
     "data": {
      "image/png": "[encoded data removed]",
      "text/plain": [
       "<Figure size 800x600 with 1 Axes>"
      ]
     },
     "metadata": {},
     "output_type": "display_data"
    }
   ],
   "source": [
    "# Visualizar la distribución de etiquetas en el conjunto de datos\n",
    "labels = [label for (text, label) in data]\n",
    "\n",
    "plt.figure(figsize=(8, 6))\n",
    "sns.countplot(x=labels, palette='viridis')\n",
    "plt.title('Distribución de Etiquetas en el Dataset')\n",
    "plt.xlabel('Sentimiento')\n",
    "plt.ylabel('Cantidad')\n",
    "plt.xticks(ticks=[0, 1], labels=['Negative', 'Positive'])\n",
    "plt.show()"
   ]
  },
  {
   "cell_type": "code",
   "execution_count": 12,
   "id": "57642fd1-2006-45b6-8d6b-7734003fdc09",
   "metadata": {},
   "outputs": [],
   "source": [
    "# Preparar datos\n",
    "texts, labels = zip(*data)\n",
    "texts = [preprocess(text) for text in texts]"
   ]
  },
  {
   "cell_type": "code",
   "execution_count": 13,
   "id": "4185b352-1c38-4afe-95fe-d87b402b9345",
   "metadata": {},
   "outputs": [
    {
     "name": "stdout",
     "output_type": "stream",
     "text": [
      "\n",
      "Muestra de datos sintéticos añadidos:\n",
      "Texto: l\n",
      "Etiqueta: o\n",
      "----------------------------------------\n",
      "Texto: m\n",
      "Etiqueta: o\n",
      "----------------------------------------\n",
      "Texto: m\n",
      "Etiqueta: o\n",
      "----------------------------------------\n",
      "Texto: d\n",
      "Etiqueta: i\n",
      "----------------------------------------\n",
      "Texto: f\n",
      "Etiqueta: i\n",
      "----------------------------------------\n"
     ]
    }
   ],
   "source": [
    "# Mostrar una muestra de los datos sintéticos añadidos\n",
    "print(\"\\nMuestra de datos sintéticos añadidos:\")\n",
    "for i in range(min(5, len(texts))):  # Muestra las primeras 5 entradas, o menos si hay menos de 5\n",
    "    print(f\"Texto: {texts[i][0]}\")\n",
    "    print(f\"Etiqueta: {texts[i][1]}\")\n",
    "    print(\"-\" * 40)"
   ]
  },
  {
   "cell_type": "code",
   "execution_count": 14,
   "id": "0b15d3a6-0c39-434b-9415-fcfca76a2200",
   "metadata": {},
   "outputs": [],
   "source": [
    "# Convertir texto a características numéricas\n",
    "vectorizer = CountVectorizer()\n",
    "X = vectorizer.fit_transform(texts)\n",
    "y = np.array(labels)"
   ]
  },
  {
   "cell_type": "code",
   "execution_count": 15,
   "id": "e712e51d-cfac-452d-96c9-c1be2e831479",
   "metadata": {},
   "outputs": [],
   "source": [
    "# Dividir los datos en conjuntos de entrenamiento y prueba\n",
    "X_train, X_test, y_train, y_test = train_test_split(X, y, test_size=0.3, random_state=42)"
   ]
  },
  {
   "cell_type": "code",
   "execution_count": 16,
   "id": "ce77f2a8-047e-44b0-bd1e-6def63545056",
   "metadata": {},
   "outputs": [],
   "source": [
    "# Definir y entrenar modelos\n",
    "models = {\n",
    "    'SVM': SVC(kernel='linear', probability=True),\n",
    "    'Decision Tree': DecisionTreeClassifier(),\n",
    "    'Logistic Regression': LogisticRegression(max_iter=1000)\n",
    "}\n",
    "\n",
    "results = {}"
   ]
  },
  {
   "cell_type": "code",
   "execution_count": null,
   "id": "b2384acd-36a5-41bb-ac94-11fde276e938",
   "metadata": {},
   "outputs": [],
   "source": [
    "for model_name, model in models.items():\n",
    "    # Entrenar el modelo\n",
    "    model.fit(X_train, y_train)\n",
    "    \n",
    "    # Realizar predicciones\n",
    "    y_pred = model.predict(X_test)\n",
    "    y_pred_prob = model.predict_proba(X_test)[:, 1]  # Probabilidades para la curva ROC\n",
    "\n",
    "    # Evaluar el modelo\n",
    "    accuracy = model.score(X_test, y_test)\n",
    "    report = classification_report(y_test, y_pred, target_names=[\"positive\", \"negative\"])\n",
    "    cm = confusion_matrix(y_test, y_pred, labels=[\"positive\", \"negative\"])\n",
    "    \n",
    "    # Calcular la curva ROC\n",
    "    binary_labels = [1 if label == \"positive\" else 0 for label in y_test]\n",
    "    binary_predictions = [1 if pred == \"positive\" else 0 for pred in y_pred]\n",
    "    fpr, tpr, _ = roc_curve(binary_labels, y_pred_prob)\n",
    "    roc_auc = auc(fpr, tpr)\n",
    "    \n",
    "    # Guardar los resultados\n",
    "    results[model_name] = {\n",
    "        'accuracy': accuracy,\n",
    "        'report': report,\n",
    "        'cm': cm,\n",
    "        'roc_auc': roc_auc,\n",
    "        'fpr': fpr,\n",
    "        'tpr': tpr\n",
    "    }\n",
    "\n",
    "    # Imprimir resultados\n",
    "    print(f\"\\n{model_name} Classification Report:\")\n",
    "    print(report)\n",
    "    \n",
    "    # Mostrar la matriz de confusión\n",
    "    plt.figure(figsize=(8, 6))\n",
    "    sns.heatmap(cm, annot=True, fmt='d', cmap='Blues', xticklabels=[\"positive\", \"negative\"], yticklabels=[\"positive\", \"negative\"])\n",
    "    plt.xlabel('Predicted')\n",
    "    plt.ylabel('True')\n",
    "    plt.title(f'{model_name} Confusion Matrix')\n",
    "    plt.show()\n",
    "    \n",
    "    # Graficar la curva ROC\n",
    "    plt.figure()\n",
    "    plt.plot(fpr, tpr, color='darkorange', lw=2, label=f'ROC curve (area = {roc_auc:.2f})')\n",
    "    plt.plot([0, 1], [0, 1], color='navy', lw=2, linestyle='--')\n",
    "    plt.xlim([0.0, 1.0])\n",
    "    plt.ylim([0.0, 1.05])\n",
    "    plt.xlabel('False Positive Rate')\n",
    "    plt.ylabel('True Positive Rate')\n",
    "    plt.title(f'{model_name} Receiver Operating Characteristic')\n",
    "    plt.legend(loc='lower right')\n",
    "    plt.show()\n",
    "\n",
    "    # Calcular y mostrar el histograma de errores\n",
    "    errors = [1 if binary_labels[i] != binary_predictions[i] else 0 for i in range(len(binary_labels))]\n",
    "    error_counts = Counter(errors)\n",
    "    plt.figure()\n",
    "    plt.bar(error_counts.keys(), error_counts.values(), color='skyblue')\n",
    "    plt.xlabel('Error (0: Correcto, 1: Incorrecto)')\n",
    "    plt.ylabel('Número de Casos')\n",
    "    plt.title(f'{model_name} Histograma de Errores')\n",
    "    plt.xticks([0, 1], ['Correcto', 'Incorrecto'])\n",
    "    plt.show()"
   ]
  },
  {
   "cell_type": "code",
   "execution_count": null,
   "id": "0559a6c8-6160-4f46-b357-9466a7fb2d84",
   "metadata": {},
   "outputs": [],
   "source": [
    "# Comparación final\n",
    "print(\"Model Comparison Results:\")\n",
    "for model_name, result in results.items():\n",
    "    print(f\"\\n{model_name}:\")\n",
    "    print(f\"Accuracy: {result['accuracy']:.2f}\")\n",
    "    print(f\"ROC AUC: {result['roc_auc']:.2f}\")\n"
   ]
  },
  {
   "cell_type": "code",
   "execution_count": null,
   "id": "a8b5fefe-9451-4384-b0b1-c75b5bd9fe85",
   "metadata": {},
   "outputs": [],
   "source": []
  },
  {
   "cell_type": "code",
   "execution_count": null,
   "id": "8b10d7f0-cb43-4d02-81b2-8e577278bc4e",
   "metadata": {},
   "outputs": [],
   "source": []
  }
 ],
 "metadata": {
  "kernelspec": {
   "display_name": "Python 3 (ipykernel)",
   "language": "python",
   "name": "python3"
  },
  "language_info": {
   "codemirror_mode": {
    "name": "ipython",
    "version": 3
   },
   "file_extension": ".py",
   "mimetype": "text/x-python",
   "name": "python",
   "nbconvert_exporter": "python",
   "pygments_lexer": "ipython3",
   "version": "3.12.4"
  }
 },
 "nbformat": 4,
 "nbformat_minor": 5
}
