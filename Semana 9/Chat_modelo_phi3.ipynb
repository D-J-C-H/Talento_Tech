{
 "cells": [
  {
   "cell_type": "code",
   "execution_count": null,
   "id": "b8c2896a-bdc7-4180-8337-215d1ebf4949",
   "metadata": {},
   "outputs": [],
   "source": []
  },
  {
   "cell_type": "code",
   "execution_count": 1,
   "id": "43462553-e8b9-4347-8e1f-a8ab009c7226",
   "metadata": {},
   "outputs": [
    {
     "name": "stdout",
     "output_type": "stream",
     "text": [
      "Collecting ollama\n",
      "  Downloading ollama-0.3.1-py3-none-any.whl.metadata (3.8 kB)\n",
      "Collecting httpx<0.28.0,>=0.27.0 (from ollama)\n",
      "  Downloading httpx-0.27.0-py3-none-any.whl.metadata (7.2 kB)\n",
      "Requirement already satisfied: anyio in c:\\users\\deyvi.caicedo\\appdata\\local\\anaconda3\\lib\\site-packages (from httpx<0.28.0,>=0.27.0->ollama) (4.2.0)\n",
      "Requirement already satisfied: certifi in c:\\users\\deyvi.caicedo\\appdata\\local\\anaconda3\\lib\\site-packages (from httpx<0.28.0,>=0.27.0->ollama) (2024.6.2)\n",
      "Collecting httpcore==1.* (from httpx<0.28.0,>=0.27.0->ollama)\n",
      "  Downloading httpcore-1.0.5-py3-none-any.whl.metadata (20 kB)\n",
      "Requirement already satisfied: idna in c:\\users\\deyvi.caicedo\\appdata\\local\\anaconda3\\lib\\site-packages (from httpx<0.28.0,>=0.27.0->ollama) (3.7)\n",
      "Requirement already satisfied: sniffio in c:\\users\\deyvi.caicedo\\appdata\\local\\anaconda3\\lib\\site-packages (from httpx<0.28.0,>=0.27.0->ollama) (1.3.0)\n",
      "Collecting h11<0.15,>=0.13 (from httpcore==1.*->httpx<0.28.0,>=0.27.0->ollama)\n",
      "  Downloading h11-0.14.0-py3-none-any.whl.metadata (8.2 kB)\n",
      "Downloading ollama-0.3.1-py3-none-any.whl (10 kB)\n",
      "Downloading httpx-0.27.0-py3-none-any.whl (75 kB)\n",
      "   ---------------------------------------- 0.0/75.6 kB ? eta -:--:--\n",
      "   ----- ---------------------------------- 10.2/75.6 kB ? eta -:--:--\n",
      "   --------------------- ------------------ 41.0/75.6 kB 653.6 kB/s eta 0:00:01\n",
      "   --------------------- ------------------ 41.0/75.6 kB 653.6 kB/s eta 0:00:01\n",
      "   ---------------------------------------- 75.6/75.6 kB 416.2 kB/s eta 0:00:00\n",
      "Downloading httpcore-1.0.5-py3-none-any.whl (77 kB)\n",
      "   ---------------------------------------- 0.0/77.9 kB ? eta -:--:--\n",
      "   ----- ---------------------------------- 10.2/77.9 kB ? eta -:--:--\n",
      "   --------------- ------------------------ 30.7/77.9 kB 435.7 kB/s eta 0:00:01\n",
      "   --------------------- ------------------ 41.0/77.9 kB 281.8 kB/s eta 0:00:01\n",
      "   --------------------- ------------------ 41.0/77.9 kB 281.8 kB/s eta 0:00:01\n",
      "   ------------------------------- -------- 61.4/77.9 kB 297.7 kB/s eta 0:00:01\n",
      "   ------------------------------- -------- 61.4/77.9 kB 297.7 kB/s eta 0:00:01\n",
      "   ---------------------------------------- 77.9/77.9 kB 255.4 kB/s eta 0:00:00\n",
      "Downloading h11-0.14.0-py3-none-any.whl (58 kB)\n",
      "   ---------------------------------------- 0.0/58.3 kB ? eta -:--:--\n",
      "   ---------------------------------------- 0.0/58.3 kB ? eta -:--:--\n",
      "   ---------------------------------------- 0.0/58.3 kB ? eta -:--:--\n",
      "   ------- -------------------------------- 10.2/58.3 kB ? eta -:--:--\n",
      "   ------- -------------------------------- 10.2/58.3 kB ? eta -:--:--\n",
      "   --------------------- ------------------ 30.7/58.3 kB 220.2 kB/s eta 0:00:01\n",
      "   --------------------- ------------------ 30.7/58.3 kB 220.2 kB/s eta 0:00:01\n",
      "   --------------------- ------------------ 30.7/58.3 kB 220.2 kB/s eta 0:00:01\n",
      "   --------------------- ------------------ 30.7/58.3 kB 220.2 kB/s eta 0:00:01\n",
      "   ---------------------------- ----------- 41.0/58.3 kB 122.9 kB/s eta 0:00:01\n",
      "   ---------------------------- ----------- 41.0/58.3 kB 122.9 kB/s eta 0:00:01\n",
      "   ---------------------------- ----------- 41.0/58.3 kB 122.9 kB/s eta 0:00:01\n",
      "   ---------------------------------------- 58.3/58.3 kB 128.1 kB/s eta 0:00:00\n",
      "Installing collected packages: h11, httpcore, httpx, ollama\n",
      "Successfully installed h11-0.14.0 httpcore-1.0.5 httpx-0.27.0 ollama-0.3.1\n",
      "Note: you may need to restart the kernel to use updated packages.\n"
     ]
    },
    {
     "name": "stderr",
     "output_type": "stream",
     "text": [
      "\n",
      "[notice] A new release of pip is available: 24.1.2 -> 24.2\n",
      "[notice] To update, run: python.exe -m pip install --upgrade pip\n"
     ]
    }
   ],
   "source": [
    "pip install ollama"
   ]
  },
  {
   "cell_type": "code",
   "execution_count": 2,
   "id": "78313b1a-3e58-4af5-919c-0c283a2bd928",
   "metadata": {},
   "outputs": [],
   "source": [
    "import ollama"
   ]
  },
  {
   "cell_type": "code",
   "execution_count": 3,
   "id": "fc5807a0-4e15-4ee1-aa43-196079bbc602",
   "metadata": {},
   "outputs": [
    {
     "name": "stdout",
     "output_type": "stream",
     "text": [
      "The given Python function `fib` defines a recursive implementation for calculating the Fibonacci sequence. However, there is an off-by-one error in this code that will cause incorrect results when calling the function with positive integers greater than 0. Instead of returning correct Fibonacci numbers, it incorrectly returns negative values due to misplaced logic regarding base cases and recursive calls for `n <= 0`.\n",
      "\n",
      "Here's an improved version of your function:\n",
      "\n",
      "```python\n",
      "def fib(n):\n",
      "    if n == 0:   # The first number in Fibonacci sequence is 0.\n",
      "        return 0\n",
      "    elif n == 1: # The second number in the Fibonacci sequence is 1.\n",
      "        return 1\n",
      "    else:\n",
      "        return fib(n-1) + fib(n-2)\n",
      "```\n",
      "\n",
      "Now this function will correctly compute and print out numbers from the Fibonacci sequence as expected for positive integers n, starting with `fib(0)` returning 0, then `fib(1)` returns 1. For example:\n",
      "\n",
      "```python\n",
      "for i in range(6):\n",
      "    print(fib(i))\n",
      "```\n",
      "This will output the first six numbers of Fibonacci sequence as follows - 0, 1, 1, 2, 3, and 5 respectively.\n"
     ]
    }
   ],
   "source": [
    "response = ollama.chat(model='phi3', messages=[\n",
    "  {\n",
    "    'role': 'user',\n",
    "    'content': '''\n",
    "    Where is the bug in this code?\n",
    "\n",
    "    def fib(n):\n",
    "        if n <= 0:\n",
    "            return n\n",
    "        else:\n",
    "            return fib(n-1) + fib(n-2)\n",
    "    ''',\n",
    "  },\n",
    "])\n",
    "print(response['message']['content'])"
   ]
  },
  {
   "cell_type": "code",
   "execution_count": 4,
   "id": "1fa3dcb7-0a08-4eae-ae31-fda64de68f7b",
   "metadata": {},
   "outputs": [
    {
     "name": "stdout",
     "output_type": "stream",
     "text": [
      "La serie de Fibonacci es una secuencia infinita donde cada número se obtiene sumando los dos anteriores números. Se inicia con un '0' o un '1', dependiendo del contexto, y a partir de ahí la regla matemática para calcular el siguiente término en la serie es:\n",
      "\n",
      "`F(n) = F(n-1) + F(n-2)` \n",
      "\n",
      "donde `F(0)=0` o `F(1)=1`. Por ejemplo, si empezamos con '0', los primeros números de la serie son: 0, 1, 1, 2, 3, 5, 8, 13, ... y cada uno es la suma del número anterior más el que le antecede (cada término se obtiene agregando los dos anteriores).\n",
      "\n",
      "Si empezamos con '1', entonces tenemos: 1, 1, 2, 3, 5, 8, 13, ... y la misma regla para calcular el siguiente número sigue siendo. El patrón visualmente fascinante de los números de Fibonacci se puede observar en formas naturales como hojas, frutos, flores y también en artefatos culturales a lo largo de la historia humana.\n",
      "\n",
      "Es un concepto clásico que ha influido notablemente tanto en matemáticas como en múltiples disciplinas científrante desde sus orígenes hasta hoy día: el estudio del comportamiento natural, los patrones y modelos simulados por computadoras para campos tales como finanzas o biología. \n",
      "\n",
      "Aquí hay un ejemplo de cómo se pueden obtener algunos números más en la serie utilizando Python:\n",
      "```python\n",
      "a, b = 0, 1 # Se inician con los dos primeros términos posibles '0' y '1'. \n",
      "for i in range(10):  \n",
      "    print(b)    \n",
      "    a, b = b, a + b ## Aquí se sigue la regla matemática para calcular el siguiente número.\n",
      "```\n"
     ]
    }
   ],
   "source": [
    "response = ollama.chat(model='phi3', messages=[\n",
    "  {\n",
    "    'role': 'user',\n",
    "    'content': '''\n",
    "     Explícame en que consiste la serie de fibonacci ?\n",
    "    ''',\n",
    "  },\n",
    "])\n",
    "print(response['message']['content'])"
   ]
  },
  {
   "cell_type": "code",
   "execution_count": 3,
   "id": "0c4fd3d3-ab96-4b0e-9bf1-f2d321212a2d",
   "metadata": {},
   "outputs": [
    {
     "name": "stdout",
     "output_type": "stream",
     "text": [
      "Para manejar números grandes en la secuencia de Fibonacci, se pueden utilizar algoritmos especializados para calcular estos valores eficientemente y métodos para almacenamiento o representación. A continuación, algunos pasos generales:\n",
      "\n",
      "1. Utilice un algoritmo eficiente como el de la 'divide y vencerás' (recursivo), donde cada Fibonacci se calcula a partir de los dos anteriores hasta llegar al número deseado. Sin embargo, esto es poco práctico para números muy grandes debido a problemas con el recorrido infinito o la sobrecarga de llamadas recursivas en lenguajes que no gestionan estas bien (como C#).\n",
      "\n",
      "2. Implemente un algoritmo iterativo donde se calculan los valores Fibonacci sucesivamente hasta alcanzar el número requerido, lo cual es más eficiente y evita problemas con la pila de llamadas recursiva:\n",
      "   ```csharp\n",
      "   public BigInteger CalcularFibonacci(int n) {\n",
      "       if (n <= 1) return new BigInteger(2); // F(0)=1, F(1)=1 en este caso específico. Se pueden definir otros casos según se desee que funcione igual al formulario matematico.\n",
      "       \n",
      "       var a = new BigInteger(1), b = new BigInteger(1), c;\n",
      "        \n",
      "       for (var i = 2; i < n; ++i) {\n",
      "           c = a + b; // sumar el último número con el anterior para calcular el nuevo.\n",
      "           a = b;     // actualizar los valores al moverse hacia adelante en la secuencia.\n",
      "           b = c;     \n",
      "       end for \n",
      "       \n",
      "       return b;\n",
      "   }\n",
      "   ```\n",
      "3. Utilice `BigInteger` para manejar el tipo de datos, que puede representar números muy grandes sin limitaciones (dependiendo del lenguaje y la biblioteca):\n",
      "   \n",
      "4. Para almacenamiento o cálculos extendidos en secuencias de Fibonacci con números extremadamente grandes se pueden recurrir a estructuras algebraicas como matrices, ya que su propiedad exponencial puede ser manejable para calcular el siguiente número en la secuencia.\n",
      "   \n",
      "5. Utilice un algoritmo basado en el módulo cuando sea necesario trabajar con Fibonacci enormes dentro de un límite numérico específico, aplicando modulos a cada suma para mantener los números manejables y evitar desbordamientos.\n",
      "   \n",
      "6. Implemente una tabla hash o memoria externa donde se almacenan previamente ciertos valores de Fibonacci que pueden ser reutilizados en futuras operaciones dentro del intervalo necesario, lo cual puede mejorar el rendimiento si la secuencia debe generarse repetidamente.\n",
      "   \n",
      "7. En caso de tener acceso a un sistema con memoria virtualizable y control superior sobre el procesamiento se podría considerar implementar una solución personalizada que gestione la tarea mediante llamadas al núcleo para asignar/desasignar segmentos en la memoria, lo cual puede optimizar los recursos según las necesidades específicas de la aplicación.\n",
      "   \n",
      "8. Evaluaciones y pruebas de rendimiento son esenciales cuando se trabaja con secuencias numéricas grandes para asegurarse que el algoritmo seleccionado no solo sea eficiente sino también robusto frente al tiempo o los recursos disponibles en la plataforma objetivo.\n",
      "   \n",
      "En resumen, aunque es posible calcular números extremadamente grandes de Fibonacci mediante técnicas avanzadas y aprovechando las capacidades del hardware como el uso eficiente de memoria y paralelización donde sea viable en un entorno dedicado (como servidores o sistemas basados en GPU), para la mayoría de los casos prácticos se debe encontrar un equilibrio entre rendimiento, precisión, almacenamiento y limitaciones del sistema objetivo.\n"
     ]
    }
   ],
   "source": [
    "response = ollama.chat(model='phi3', messages=[\n",
    "  {\n",
    "    'role': 'user',\n",
    "    'content': '''\n",
    "     cómo lidiar con numeros n grandes en fibonacci ?\n",
    "    ''',\n",
    "  },\n",
    "])\n",
    "print(response['message']['content'])"
   ]
  },
  {
   "cell_type": "code",
   "execution_count": null,
   "id": "7fd5b8b4-8315-4a93-ab53-bb7dc089a7cb",
   "metadata": {},
   "outputs": [],
   "source": []
  }
 ],
 "metadata": {
  "kernelspec": {
   "display_name": "Python 3 (ipykernel)",
   "language": "python",
   "name": "python3"
  },
  "language_info": {
   "codemirror_mode": {
    "name": "ipython",
    "version": 3
   },
   "file_extension": ".py",
   "mimetype": "text/x-python",
   "name": "python",
   "nbconvert_exporter": "python",
   "pygments_lexer": "ipython3",
   "version": "3.12.4"
  }
 },
 "nbformat": 4,
 "nbformat_minor": 5
}
