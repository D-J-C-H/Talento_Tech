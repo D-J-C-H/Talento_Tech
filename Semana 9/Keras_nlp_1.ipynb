{
 "cells": [
  {
   "cell_type": "code",
   "execution_count": 6,
   "id": "66295e1e-94c5-42b8-bdb6-a106d162e057",
   "metadata": {},
   "outputs": [
    {
     "name": "stdout",
     "output_type": "stream",
     "text": [
      "Requirement already satisfied: keras in c:\\users\\deyvi.caicedo\\appdata\\local\\anaconda3\\lib\\site-packages (3.4.1)\n",
      "Requirement already satisfied: absl-py in c:\\users\\deyvi.caicedo\\appdata\\local\\anaconda3\\lib\\site-packages (from keras) (2.1.0)\n",
      "Requirement already satisfied: numpy in c:\\users\\deyvi.caicedo\\appdata\\local\\anaconda3\\lib\\site-packages (from keras) (1.26.4)\n",
      "Requirement already satisfied: rich in c:\\users\\deyvi.caicedo\\appdata\\local\\anaconda3\\lib\\site-packages (from keras) (13.3.5)\n",
      "Requirement already satisfied: namex in c:\\users\\deyvi.caicedo\\appdata\\local\\anaconda3\\lib\\site-packages (from keras) (0.0.8)\n",
      "Requirement already satisfied: h5py in c:\\users\\deyvi.caicedo\\appdata\\local\\anaconda3\\lib\\site-packages (from keras) (3.11.0)\n",
      "Requirement already satisfied: optree in c:\\users\\deyvi.caicedo\\appdata\\local\\anaconda3\\lib\\site-packages (from keras) (0.12.1)\n",
      "Requirement already satisfied: ml-dtypes in c:\\users\\deyvi.caicedo\\appdata\\local\\anaconda3\\lib\\site-packages (from keras) (0.4.0)\n",
      "Requirement already satisfied: packaging in c:\\users\\deyvi.caicedo\\appdata\\local\\anaconda3\\lib\\site-packages (from keras) (23.2)\n",
      "Requirement already satisfied: typing-extensions>=4.5.0 in c:\\users\\deyvi.caicedo\\appdata\\local\\anaconda3\\lib\\site-packages (from optree->keras) (4.11.0)\n",
      "Requirement already satisfied: markdown-it-py<3.0.0,>=2.2.0 in c:\\users\\deyvi.caicedo\\appdata\\local\\anaconda3\\lib\\site-packages (from rich->keras) (2.2.0)\n",
      "Requirement already satisfied: pygments<3.0.0,>=2.13.0 in c:\\users\\deyvi.caicedo\\appdata\\local\\anaconda3\\lib\\site-packages (from rich->keras) (2.15.1)\n",
      "Requirement already satisfied: mdurl~=0.1 in c:\\users\\deyvi.caicedo\\appdata\\local\\anaconda3\\lib\\site-packages (from markdown-it-py<3.0.0,>=2.2.0->rich->keras) (0.1.0)\n",
      "Note: you may need to restart the kernel to use updated packages.\n"
     ]
    },
    {
     "name": "stderr",
     "output_type": "stream",
     "text": [
      "\n",
      "[notice] A new release of pip is available: 24.1.2 -> 24.2\n",
      "[notice] To update, run: python.exe -m pip install --upgrade pip\n"
     ]
    }
   ],
   "source": [
    "pip install keras"
   ]
  },
  {
   "cell_type": "code",
   "execution_count": 7,
   "id": "36074bba-b3b7-4323-920d-3b4370f1f52c",
   "metadata": {},
   "outputs": [
    {
     "name": "stdout",
     "output_type": "stream",
     "text": [
      "Requirement already satisfied: tensorflow in c:\\users\\deyvi.caicedo\\appdata\\local\\anaconda3\\lib\\site-packages (2.17.0)\n",
      "Requirement already satisfied: tensorflow-intel==2.17.0 in c:\\users\\deyvi.caicedo\\appdata\\local\\anaconda3\\lib\\site-packages (from tensorflow) (2.17.0)\n",
      "Requirement already satisfied: absl-py>=1.0.0 in c:\\users\\deyvi.caicedo\\appdata\\local\\anaconda3\\lib\\site-packages (from tensorflow-intel==2.17.0->tensorflow) (2.1.0)\n",
      "Requirement already satisfied: astunparse>=1.6.0 in c:\\users\\deyvi.caicedo\\appdata\\local\\anaconda3\\lib\\site-packages (from tensorflow-intel==2.17.0->tensorflow) (1.6.3)\n",
      "Requirement already satisfied: flatbuffers>=24.3.25 in c:\\users\\deyvi.caicedo\\appdata\\local\\anaconda3\\lib\\site-packages (from tensorflow-intel==2.17.0->tensorflow) (24.3.25)\n",
      "Requirement already satisfied: gast!=0.5.0,!=0.5.1,!=0.5.2,>=0.2.1 in c:\\users\\deyvi.caicedo\\appdata\\local\\anaconda3\\lib\\site-packages (from tensorflow-intel==2.17.0->tensorflow) (0.6.0)\n",
      "Requirement already satisfied: google-pasta>=0.1.1 in c:\\users\\deyvi.caicedo\\appdata\\local\\anaconda3\\lib\\site-packages (from tensorflow-intel==2.17.0->tensorflow) (0.2.0)\n",
      "Requirement already satisfied: h5py>=3.10.0 in c:\\users\\deyvi.caicedo\\appdata\\local\\anaconda3\\lib\\site-packages (from tensorflow-intel==2.17.0->tensorflow) (3.11.0)\n",
      "Requirement already satisfied: libclang>=13.0.0 in c:\\users\\deyvi.caicedo\\appdata\\local\\anaconda3\\lib\\site-packages (from tensorflow-intel==2.17.0->tensorflow) (18.1.1)\n",
      "Requirement already satisfied: ml-dtypes<0.5.0,>=0.3.1 in c:\\users\\deyvi.caicedo\\appdata\\local\\anaconda3\\lib\\site-packages (from tensorflow-intel==2.17.0->tensorflow) (0.4.0)\n",
      "Requirement already satisfied: opt-einsum>=2.3.2 in c:\\users\\deyvi.caicedo\\appdata\\local\\anaconda3\\lib\\site-packages (from tensorflow-intel==2.17.0->tensorflow) (3.3.0)\n",
      "Requirement already satisfied: packaging in c:\\users\\deyvi.caicedo\\appdata\\local\\anaconda3\\lib\\site-packages (from tensorflow-intel==2.17.0->tensorflow) (23.2)\n",
      "Requirement already satisfied: protobuf!=4.21.0,!=4.21.1,!=4.21.2,!=4.21.3,!=4.21.4,!=4.21.5,<5.0.0dev,>=3.20.3 in c:\\users\\deyvi.caicedo\\appdata\\local\\anaconda3\\lib\\site-packages (from tensorflow-intel==2.17.0->tensorflow) (3.20.3)\n",
      "Requirement already satisfied: requests<3,>=2.21.0 in c:\\users\\deyvi.caicedo\\appdata\\local\\anaconda3\\lib\\site-packages (from tensorflow-intel==2.17.0->tensorflow) (2.32.2)\n",
      "Requirement already satisfied: setuptools in c:\\users\\deyvi.caicedo\\appdata\\local\\anaconda3\\lib\\site-packages (from tensorflow-intel==2.17.0->tensorflow) (71.0.4)\n",
      "Requirement already satisfied: six>=1.12.0 in c:\\users\\deyvi.caicedo\\appdata\\local\\anaconda3\\lib\\site-packages (from tensorflow-intel==2.17.0->tensorflow) (1.16.0)\n",
      "Requirement already satisfied: termcolor>=1.1.0 in c:\\users\\deyvi.caicedo\\appdata\\local\\anaconda3\\lib\\site-packages (from tensorflow-intel==2.17.0->tensorflow) (2.4.0)\n",
      "Requirement already satisfied: typing-extensions>=3.6.6 in c:\\users\\deyvi.caicedo\\appdata\\local\\anaconda3\\lib\\site-packages (from tensorflow-intel==2.17.0->tensorflow) (4.11.0)\n",
      "Requirement already satisfied: wrapt>=1.11.0 in c:\\users\\deyvi.caicedo\\appdata\\local\\anaconda3\\lib\\site-packages (from tensorflow-intel==2.17.0->tensorflow) (1.14.1)\n",
      "Requirement already satisfied: grpcio<2.0,>=1.24.3 in c:\\users\\deyvi.caicedo\\appdata\\local\\anaconda3\\lib\\site-packages (from tensorflow-intel==2.17.0->tensorflow) (1.65.1)\n",
      "Requirement already satisfied: tensorboard<2.18,>=2.17 in c:\\users\\deyvi.caicedo\\appdata\\local\\anaconda3\\lib\\site-packages (from tensorflow-intel==2.17.0->tensorflow) (2.17.0)\n",
      "Requirement already satisfied: keras>=3.2.0 in c:\\users\\deyvi.caicedo\\appdata\\local\\anaconda3\\lib\\site-packages (from tensorflow-intel==2.17.0->tensorflow) (3.4.1)\n",
      "Requirement already satisfied: numpy<2.0.0,>=1.26.0 in c:\\users\\deyvi.caicedo\\appdata\\local\\anaconda3\\lib\\site-packages (from tensorflow-intel==2.17.0->tensorflow) (1.26.4)\n",
      "Requirement already satisfied: wheel<1.0,>=0.23.0 in c:\\users\\deyvi.caicedo\\appdata\\local\\anaconda3\\lib\\site-packages (from astunparse>=1.6.0->tensorflow-intel==2.17.0->tensorflow) (0.43.0)\n",
      "Requirement already satisfied: rich in c:\\users\\deyvi.caicedo\\appdata\\local\\anaconda3\\lib\\site-packages (from keras>=3.2.0->tensorflow-intel==2.17.0->tensorflow) (13.3.5)\n",
      "Requirement already satisfied: namex in c:\\users\\deyvi.caicedo\\appdata\\local\\anaconda3\\lib\\site-packages (from keras>=3.2.0->tensorflow-intel==2.17.0->tensorflow) (0.0.8)\n",
      "Requirement already satisfied: optree in c:\\users\\deyvi.caicedo\\appdata\\local\\anaconda3\\lib\\site-packages (from keras>=3.2.0->tensorflow-intel==2.17.0->tensorflow) (0.12.1)\n",
      "Requirement already satisfied: charset-normalizer<4,>=2 in c:\\users\\deyvi.caicedo\\appdata\\local\\anaconda3\\lib\\site-packages (from requests<3,>=2.21.0->tensorflow-intel==2.17.0->tensorflow) (2.0.4)\n",
      "Requirement already satisfied: idna<4,>=2.5 in c:\\users\\deyvi.caicedo\\appdata\\local\\anaconda3\\lib\\site-packages (from requests<3,>=2.21.0->tensorflow-intel==2.17.0->tensorflow) (3.7)\n",
      "Requirement already satisfied: urllib3<3,>=1.21.1 in c:\\users\\deyvi.caicedo\\appdata\\local\\anaconda3\\lib\\site-packages (from requests<3,>=2.21.0->tensorflow-intel==2.17.0->tensorflow) (2.2.2)\n",
      "Requirement already satisfied: certifi>=2017.4.17 in c:\\users\\deyvi.caicedo\\appdata\\local\\anaconda3\\lib\\site-packages (from requests<3,>=2.21.0->tensorflow-intel==2.17.0->tensorflow) (2024.6.2)\n",
      "Requirement already satisfied: markdown>=2.6.8 in c:\\users\\deyvi.caicedo\\appdata\\local\\anaconda3\\lib\\site-packages (from tensorboard<2.18,>=2.17->tensorflow-intel==2.17.0->tensorflow) (3.4.1)\n",
      "Requirement already satisfied: tensorboard-data-server<0.8.0,>=0.7.0 in c:\\users\\deyvi.caicedo\\appdata\\local\\anaconda3\\lib\\site-packages (from tensorboard<2.18,>=2.17->tensorflow-intel==2.17.0->tensorflow) (0.7.2)\n",
      "Requirement already satisfied: werkzeug>=1.0.1 in c:\\users\\deyvi.caicedo\\appdata\\local\\anaconda3\\lib\\site-packages (from tensorboard<2.18,>=2.17->tensorflow-intel==2.17.0->tensorflow) (3.0.3)\n",
      "Requirement already satisfied: MarkupSafe>=2.1.1 in c:\\users\\deyvi.caicedo\\appdata\\local\\anaconda3\\lib\\site-packages (from werkzeug>=1.0.1->tensorboard<2.18,>=2.17->tensorflow-intel==2.17.0->tensorflow) (2.1.3)\n",
      "Requirement already satisfied: markdown-it-py<3.0.0,>=2.2.0 in c:\\users\\deyvi.caicedo\\appdata\\local\\anaconda3\\lib\\site-packages (from rich->keras>=3.2.0->tensorflow-intel==2.17.0->tensorflow) (2.2.0)\n",
      "Requirement already satisfied: pygments<3.0.0,>=2.13.0 in c:\\users\\deyvi.caicedo\\appdata\\local\\anaconda3\\lib\\site-packages (from rich->keras>=3.2.0->tensorflow-intel==2.17.0->tensorflow) (2.15.1)\n",
      "Requirement already satisfied: mdurl~=0.1 in c:\\users\\deyvi.caicedo\\appdata\\local\\anaconda3\\lib\\site-packages (from markdown-it-py<3.0.0,>=2.2.0->rich->keras>=3.2.0->tensorflow-intel==2.17.0->tensorflow) (0.1.0)\n",
      "Note: you may need to restart the kernel to use updated packages.\n"
     ]
    },
    {
     "name": "stderr",
     "output_type": "stream",
     "text": [
      "\n",
      "[notice] A new release of pip is available: 24.1.2 -> 24.2\n",
      "[notice] To update, run: python.exe -m pip install --upgrade pip\n"
     ]
    }
   ],
   "source": [
    "pip install tensorflow\n"
   ]
  },
  {
   "cell_type": "code",
   "execution_count": 1,
   "id": "34ddb1be-f3c9-4c80-9cdb-15f64c4e3279",
   "metadata": {},
   "outputs": [],
   "source": [
    "import keras\n",
    "from tensorflow.keras.preprocessing.text import Tokenizer\n",
    "from tensorflow.keras.preprocessing.text import Tokenizer\n"
   ]
  },
  {
   "cell_type": "code",
   "execution_count": 2,
   "id": "59d20e81-1e0e-4e5c-8924-796cc50e9aec",
   "metadata": {},
   "outputs": [],
   "source": [
    "frases =[\n",
    "'Hola mundo',\n",
    "'Hola a todos',\n",
    "'Hola a todo el mundo'\n",
    "]"
   ]
  },
  {
   "cell_type": "code",
   "execution_count": 5,
   "id": "0487ab8f-7eff-4afe-adad-b74646b97352",
   "metadata": {},
   "outputs": [
    {
     "name": "stdout",
     "output_type": "stream",
     "text": [
      "word_index = {'esto': 1, 'es': 2, 'prueba': 3, 'una': 4, 'otra': 5}\n"
     ]
    }
   ],
   "source": [
    "#Genera el diccionario de tokens\n",
    "tokenizer = Tokenizer(num_words = 10)\n",
    "tokenizer.fit_on_texts(frases)\n",
    "word_index = tokenizer.word_index\n",
    "print('word_index =',word_index)"
   ]
  },
  {
   "cell_type": "code",
   "execution_count": 7,
   "id": "60942ecf-2406-4ac7-bfe3-f3b32c9e9151",
   "metadata": {},
   "outputs": [
    {
     "name": "stdout",
     "output_type": "stream",
     "text": [
      "secuencias = [[1, 2, 4, 3], [1, 2, 5, 3]]\n"
     ]
    }
   ],
   "source": [
    "#Generacion de secuencia tokenizadas\n",
    "secuencias = tokenizer.texts_to_sequences (frases)\n",
    "print('secuencias =',secuencias)"
   ]
  },
  {
   "cell_type": "code",
   "execution_count": 8,
   "id": "79d814c4-a189-4db9-91b7-a276d70335b3",
   "metadata": {},
   "outputs": [
    {
     "name": "stdout",
     "output_type": "stream",
     "text": [
      "rellena =\n",
      " [[1 2 4 3]\n",
      " [1 2 5 3]]\n"
     ]
    }
   ],
   "source": [
    "#Rellena las secuencias a una longitud uniforme\n",
    "relleno = keras.preprocessing.sequence.pad_sequences(secuencias)\n",
    "print('rellena =\\n',relleno)"
   ]
  },
  {
   "cell_type": "code",
   "execution_count": 9,
   "id": "c355fffa-3240-446d-9f93-638970c7a991",
   "metadata": {},
   "outputs": [],
   "source": [
    "frases = [\n",
    "'Hola mundo',\n",
    "'Hola a todos',\n",
    "'Hola a todo el mundo',\n",
    "'Buen dia, como estas hoy'\n",
    "]"
   ]
  },
  {
   "cell_type": "code",
   "execution_count": 25,
   "id": "0f4bc6bc-d694-4660-a5e4-f8f88f6cf44c",
   "metadata": {},
   "outputs": [
    {
     "name": "stdout",
     "output_type": "stream",
     "text": [
      "\n",
      "word_index = {'<00V>': 1, 'a': 2, 'hola': 3, 'mundohola': 4, 'todoshola': 5, 'todo': 6, 'el': 7, 'mundo': 8, 'buen': 9, 'dia': 10, 'como': 11, 'estas': 12, 'hoy': 13}\n"
     ]
    }
   ],
   "source": [
    "#Genera el diccionario de tokens\n",
    "tokenizer = Tokenizer(num_words = 10,\n",
    "                      oov_token=\"<00V>\")\n",
    "tokenizer.fit_on_texts(frases)\n",
    "word_index = tokenizer.word_index\n",
    "print('\\nword_index =',word_index)\n",
    "tokenizer = Tokenizer(num_words = 10)\n",
    "tokenizer.fit_on_texts(frases)"
   ]
  },
  {
   "cell_type": "code",
   "execution_count": 26,
   "id": "4a0f757b-06a3-4109-a520-9437db818fe4",
   "metadata": {},
   "outputs": [
    {
     "name": "stdout",
     "output_type": "stream",
     "text": [
      "secuencias = [[2, 3, 1, 4, 1, 5, 6, 7], [8, 9]]\n"
     ]
    }
   ],
   "source": [
    "#Generacion de secuencia tokenizadas\n",
    "secuencias = tokenizer.texts_to_sequences (frases)\n",
    "print('secuencias =', secuencias)"
   ]
  },
  {
   "cell_type": "code",
   "execution_count": 15,
   "id": "a36ea51a-6ed0-4dfe-b8a9-821492a3c9df",
   "metadata": {},
   "outputs": [
    {
     "name": "stdout",
     "output_type": "stream",
     "text": [
      "rellena =\n",
      " [[0 0 0 1 2]\n",
      " [0 0 1 3 4]\n",
      " [1 3 5 6 2]\n",
      " [0 0 7 8 9]]\n"
     ]
    }
   ],
   "source": [
    "#Rellena las secuencias a una longitud uniforme\n",
    "relleno = keras.preprocessing.sequence.pad_sequences (secuencias) \n",
    "print('rellena =\\n',relleno)"
   ]
  },
  {
   "cell_type": "code",
   "execution_count": 16,
   "id": "4ab7708f-835e-4251-9e2f-e4a4a37d904a",
   "metadata": {},
   "outputs": [],
   "source": [
    "frases = [\n",
    "'Hola mundo'\n",
    "'Hola a todos'\n",
    "'Hola a todo el mundo',\n",
    "'Buen dia, como estas hoy'\n",
    "]"
   ]
  },
  {
   "cell_type": "code",
   "execution_count": 18,
   "id": "5a31fa58-140c-4cc5-b69c-44d909d9b031",
   "metadata": {},
   "outputs": [
    {
     "name": "stdout",
     "output_type": "stream",
     "text": [
      "\n",
      "word_index = {'a': 1, 'hola': 2, 'mundohola': 3, 'todoshola': 4, 'todo': 5, 'el': 6, 'mundo': 7, 'buen': 8, 'dia': 9, 'como': 10, 'estas': 11, 'hoy': 12}\n"
     ]
    }
   ],
   "source": [
    "#Genera el diccionario de tokens\n",
    "tokenizer = Tokenizer(num_words = 10)\n",
    "tokenizer.fit_on_texts(frases)\n",
    "word_index = tokenizer.word_index\n",
    "print('\\nword_index =',word_index)"
   ]
  },
  {
   "cell_type": "code",
   "execution_count": 19,
   "id": "0f271e66-e991-4fca-b680-1522d7f65e87",
   "metadata": {},
   "outputs": [
    {
     "name": "stdout",
     "output_type": "stream",
     "text": [
      "secuencias = [[2, 3, 1, 4, 1, 5, 6, 7], [8, 9]]\n"
     ]
    }
   ],
   "source": [
    "#Generacion de secuencia tokenizadas\n",
    "secuencias = tokenizer.texts_to_sequences(frases)\n",
    "print('secuencias =',secuencias)"
   ]
  },
  {
   "cell_type": "code",
   "execution_count": 22,
   "id": "b6d6abe3-a693-4492-8ba3-0396118b5b24",
   "metadata": {},
   "outputs": [
    {
     "name": "stdout",
     "output_type": "stream",
     "text": [
      "rellena =\n",
      " [[2 3 1 4 1 5 6 7]\n",
      " [8 9 0 0 0 0 0 0]]\n"
     ]
    }
   ],
   "source": [
    "#Rellena las secuencias a una longitud uniforme\n",
    "relleno = keras.preprocessing.sequence.pad_sequences(secuencias,\n",
    "                                                     padding= 'post',truncating = 'post')\n",
    "print('rellena =\\n',relleno)\n"
   ]
  },
  {
   "cell_type": "code",
   "execution_count": null,
   "id": "4c8c0927-76e6-4dce-b0d3-e87414535450",
   "metadata": {},
   "outputs": [],
   "source": []
  }
 ],
 "metadata": {
  "kernelspec": {
   "display_name": "Python 3 (ipykernel)",
   "language": "python",
   "name": "python3"
  },
  "language_info": {
   "codemirror_mode": {
    "name": "ipython",
    "version": 3
   },
   "file_extension": ".py",
   "mimetype": "text/x-python",
   "name": "python",
   "nbconvert_exporter": "python",
   "pygments_lexer": "ipython3",
   "version": "3.12.4"
  }
 },
 "nbformat": 4,
 "nbformat_minor": 5
}
