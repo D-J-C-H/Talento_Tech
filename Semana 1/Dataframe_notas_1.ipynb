{
 "cells": [
  {
   "cell_type": "code",
   "execution_count": null,
   "metadata": {},
   "outputs": [],
   "source": [
    "Importando Librerias"
   ]
  },
  {
   "cell_type": "code",
   "execution_count": null,
   "metadata": {},
   "outputs": [],
   "source": [
    "import pandas as pd\n",
    "import numpy as np\n",
    "import matplotlib.pyplot as plt\n",
    "import seaborn as sns"
   ]
  },
  {
   "cell_type": "code",
   "execution_count": null,
   "metadata": {},
   "outputs": [],
   "source": [
    "# Función para encontrar la mayor y menor nota de cada estudiante\n",
    "def mayor_menor_notas(estudiante):\n",
    "    mayor_nota = estudiante.max()\n",
    "    menor_nota = estudiante.min()\n",
    "    return pd.Series([mayor_nota, menor_nota], index=['Mayor Nota', 'Menor Nota'])\n"
   ]
  },
  {
   "cell_type": "code",
   "execution_count": null,
   "metadata": {},
   "outputs": [],
   "source": [
    "# Crear el dataset de notas de estudiantes\n",
    "np.random.seed(0)  # La semilla\n",
    "num_estudiantes = 20\n",
    "materias = ['Matemáticas', 'Ciencias', 'Historia', 'Literatura', 'Inglés']\n",
    "notas = pd.DataFrame(np.random.randint(1, 100, size=(num_estudiantes, len(materias))),\n",
    "                     columns=materias)\n",
    "notas.index.name = 'Estudiante'"
   ]
  },
  {
   "cell_type": "code",
   "execution_count": null,
   "metadata": {},
   "outputs": [],
   "source": [
    "# Imprimir las primeras filas del dataset\n",
    "print(\"Dataset de Notas de Estudiantes:\")\n",
    "print(notas.head())\n",
    "print()"
   ]
  },
  {
   "cell_type": "code",
   "execution_count": null,
   "metadata": {},
   "outputs": [],
   "source": [
    "# Análisis descriptivo de las variables\n",
    "print(\"Análisis Descriptivo:\")\n",
    "print(notas.describe())\n",
    "print()"
   ]
  },
  {
   "cell_type": "code",
   "execution_count": null,
   "metadata": {},
   "outputs": [],
   "source": [
    "# Mayor y menor nota de cada estudiante\n",
    "mayores_menores_notas = notas.apply(mayor_menor_notas, axis=1)"
   ]
  },
  {
   "cell_type": "code",
   "execution_count": null,
   "metadata": {},
   "outputs": [],
   "source": [
    "notas = pd.concat([notas, mayores_menores_notas], axis=1)"
   ]
  },
  {
   "cell_type": "code",
   "execution_count": null,
   "metadata": {},
   "outputs": [],
   "source": [
    "# Gráficas descriptivas\n",
    "# Histogramas de las notas por materia\n",
    "plt.figure(figsize=(12, 6))\n",
    "for i, materia in enumerate(materias, 1):\n",
    "    plt.subplot(2, 3, i)\n",
    "    sns.histplot(notas[materia], bins=10, kde=True)\n",
    "    plt.title(f'Histograma de Notas - {materia}')\n",
    "    plt.xlabel('Nota')\n",
    "    plt.ylabel('Frecuencia')\n",
    "plt.tight_layout()\n",
    "plt.show()\n"
   ]
  },
  {
   "cell_type": "code",
   "execution_count": null,
   "metadata": {},
   "outputs": [],
   "source": [
    "\n",
    "# Boxplot de las notas por materia\n",
    "plt.figure(figsize=(10, 6))\n",
    "sns.boxplot(data=notas, orient='h')\n",
    "plt.title('Boxplot de Notas por Materia')\n",
    "plt.xlabel('Nota')\n",
    "plt.ylabel('Materia')\n",
    "plt.show()\n",
    "\n"
   ]
  }
 ],
 "metadata": {
  "language_info": {
   "name": "python"
  }
 },
 "nbformat": 4,
 "nbformat_minor": 2
}
